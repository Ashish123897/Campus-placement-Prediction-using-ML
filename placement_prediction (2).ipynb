{
 "cells": [
  {
   "cell_type": "code",
   "execution_count": null,
   "metadata": {
    "id": "tmZobqrY2_dM"
   },
   "outputs": [],
   "source": [
    "import numpy as np\n",
    "import pandas as pd"
   ]
  },
  {
   "cell_type": "code",
   "execution_count": null,
   "metadata": {
    "id": "VXay_nKZ6qTG"
   },
   "outputs": [],
   "source": [
    "df = pd.read_csv('collegePlace(1).csv')"
   ]
  },
  {
   "cell_type": "markdown",
   "metadata": {
    "id": "5L0xcXQfE-0C"
   },
   "source": [
    "Convert Categorical Data to Numeric"
   ]
  },
  {
   "cell_type": "markdown",
   "metadata": {
    "id": "SEJpEbDeABd5"
   },
   "source": [
    "#Preprocessing"
   ]
  },
  {
   "cell_type": "markdown",
   "metadata": {
    "id": "dldErSUo_URv"
   },
   "source": [
    "correlation between feature"
   ]
  },
  {
   "cell_type": "markdown",
   "metadata": {
    "id": "15676_IxAqDT"
   },
   "source": [
    "#EDA"
   ]
  },
  {
   "cell_type": "code",
   "execution_count": null,
   "metadata": {
    "id": "EFzkAkycEpUc"
   },
   "outputs": [],
   "source": [
    "df['Gender'] = df['Gender'].map({\n",
    "    'Male': 1,\n",
    "    'Female': 0})"
   ]
  },
  {
   "cell_type": "code",
   "execution_count": null,
   "metadata": {
    "colab": {
     "base_uri": "https://localhost:8080/"
    },
    "id": "sfZcRIxlE9cK",
    "outputId": "6de8940e-b7b8-4c4d-9431-a5d81b282e6b"
   },
   "outputs": [
    {
     "data": {
      "text/plain": [
       "array(['Electronics And Communication', 'Computer Science',\n",
       "       'Information Technology', 'Mechanical', 'Electrical', 'Civil'],\n",
       "      dtype=object)"
      ]
     },
     "execution_count": 127,
     "metadata": {},
     "output_type": "execute_result"
    }
   ],
   "source": [
    "df['Stream'].unique()"
   ]
  },
  {
   "cell_type": "markdown",
   "metadata": {
    "id": "lTL4sOHeFUMA"
   },
   "source": [
    "Mapping The Diffrent stream with diffrent Number\n",
    "1.   Electronics And Communication : 1\n",
    "2.   Computer Science : 2\n",
    "3.Information Technology: 3\n",
    "4.Mechanical : 4\n",
    "5.Electrical : 5\n",
    "6.Civil : 6"
   ]
  },
  {
   "cell_type": "code",
   "execution_count": null,
   "metadata": {
    "id": "-ycDaWakFP_g"
   },
   "outputs": [],
   "source": [
    "df['Stream'] = df['Stream'].map({\n",
    "    'Electronics And Communication': 1,\n",
    "    'Computer Science': 2,\n",
    "    'Information Technology': 3,\n",
    "    'Mechanical': 4,\n",
    "    'Electrical': 5,\n",
    "    'Civil': 6})"
   ]
  },
  {
   "cell_type": "code",
   "execution_count": null,
   "metadata": {
    "id": "jsSjy9cgIl-y"
   },
   "outputs": [],
   "source": [
    "X = df.drop(columns=['PlacedOrNot'],axis=1)\n",
    "y = df['PlacedOrNot']"
   ]
  },
  {
   "cell_type": "markdown",
   "metadata": {
    "id": "yT4OylexHlRK"
   },
   "source": [
    "#Train Test Split"
   ]
  },
  {
   "cell_type": "code",
   "execution_count": null,
   "metadata": {
    "id": "ROC3gdYyGX-7"
   },
   "outputs": [],
   "source": [
    "from sklearn.model_selection import train_test_split"
   ]
  },
  {
   "cell_type": "code",
   "execution_count": null,
   "metadata": {
    "id": "_JG1HXdIH8dm"
   },
   "outputs": [],
   "source": [
    "X_train,X_test,y_train,y_test = train_test_split(X,y,test_size=0.33)"
   ]
  },
  {
   "cell_type": "code",
   "execution_count": null,
   "metadata": {
    "id": "BGUViQWeJPSB"
   },
   "outputs": [],
   "source": [
    "from sklearn.preprocessing import StandardScaler"
   ]
  },
  {
   "cell_type": "code",
   "execution_count": null,
   "metadata": {
    "id": "lejanFmEKndY"
   },
   "outputs": [],
   "source": [
    "scaler = StandardScaler()\n",
    "X_train_scale = scaler.fit_transform(X_train)\n",
    "X_test_scale = scaler.transform(X_test)"
   ]
  },
  {
   "cell_type": "markdown",
   "metadata": {
    "id": "u6BKwyIOLLPZ"
   },
   "source": [
    "#Train and Evaluate the model"
   ]
  },
  {
   "cell_type": "markdown",
   "metadata": {
    "id": "tuEv6UDVLQ9j"
   },
   "source": [
    "Create an Evaluate Function to give all metrics after model Training\n"
   ]
  },
  {
   "cell_type": "code",
   "execution_count": null,
   "metadata": {
    "id": "2S9NAw-T-FTq"
   },
   "outputs": [],
   "source": [
    "from sklearn.metrics import accuracy_score\n",
    "from sklearn.model_selection import cross_val_score"
   ]
  },
  {
   "cell_type": "markdown",
   "metadata": {
    "id": "QjcGrz4q_3zL"
   },
   "source": [
    "#Logistic Regression"
   ]
  },
  {
   "cell_type": "markdown",
   "metadata": {
    "id": "Q50T8B8LBDuO"
   },
   "source": [
    "#Random Forest Classifier"
   ]
  },
  {
   "cell_type": "code",
   "execution_count": null,
   "metadata": {
    "colab": {
     "base_uri": "https://localhost:8080/"
    },
    "id": "cgTfeB8vA19_",
    "outputId": "681116e6-30bf-4b99-8190-9df0d0d78403"
   },
   "outputs": [
    {
     "name": "stdout",
     "output_type": "stream",
     "text": [
      "Without Scaling and CV:  0.7686170212765957\n",
      "Without Scaling and With CV:  0.7463943950786056\n",
      "With Scaling and Without CV:  0.7686170212765957\n",
      "With Scaling and With CV:  0.7450786056049215\n"
     ]
    }
   ],
   "source": [
    "from sklearn.ensemble import RandomForestClassifier\n",
    "\n",
    "clf = RandomForestClassifier(max_depth=10, random_state=0)\n",
    "\n",
    "clf.fit(X_train,y_train)\n",
    "y_pred = clf.predict(X_test)\n",
    "print(\"Without Scaling and CV: \",accuracy_score(y_test,y_pred))\n",
    "scores = cross_val_score(clf, X_train, y_train, cv=10)\n",
    "print(\"Without Scaling and With CV: \",scores.mean())\n",
    "\n",
    "# With Scaling\n",
    "clf.fit(X_train_scale,y_train)\n",
    "y_pred = clf.predict(X_test_scale)\n",
    "print(\"With Scaling and Without CV: \",accuracy_score(y_test,y_pred))\n",
    "scores = cross_val_score(clf, X_train_scale, y_train, cv=10)\n",
    "print(\"With Scaling and With CV: \",scores.mean())"
   ]
  },
  {
   "cell_type": "markdown",
   "metadata": {
    "id": "74VqaHMkBNsV"
   },
   "source": [
    "#Support Vector Machines"
   ]
  },
  {
   "cell_type": "markdown",
   "metadata": {
    "id": "8KaH2oI9ClvS"
   },
   "source": [
    "#Model selection\n",
    "As we see that random forest give highest accuracy"
   ]
  },
  {
   "cell_type": "code",
   "execution_count": null,
   "metadata": {
    "colab": {
     "base_uri": "https://localhost:8080/"
    },
    "id": "1XDzY1hhCI_G",
    "outputId": "d25e483d-4ecb-449b-a613-b4f30106ed73"
   },
   "outputs": [
    {
     "name": "stdout",
     "output_type": "stream",
     "text": [
      "Without CV:  0.7686170212765957\n",
      "With CV:  0.7463943950786056\n",
      "Precision Score:  0.8217821782178217\n",
      "Recall Score:  0.7649769585253456\n",
      "F1 Score:  0.7923627684964202\n"
     ]
    }
   ],
   "source": [
    "from sklearn.metrics import precision_score, recall_score, f1_score\n",
    "clf = RandomForestClassifier(max_depth=10, random_state=0)\n",
    "clf.fit(X_train,y_train)\n",
    "y_pred = clf.predict(X_test)\n",
    "print(\"Without CV: \",accuracy_score(y_test,y_pred))\n",
    "scores = cross_val_score(clf, X_train, y_train, cv=10)\n",
    "print(\"With CV: \",scores.mean())\n",
    "print(\"Precision Score: \", precision_score(y_test, y_pred))\n",
    "print(\"Recall Score: \", recall_score(y_test, y_pred))\n",
    "print(\"F1 Score: \", f1_score(y_test, y_pred))"
   ]
  },
  {
   "cell_type": "markdown",
   "metadata": {
    "id": "3ks1HJXQDuuO"
   },
   "source": [
    "#Tuning the model"
   ]
  },
  {
   "cell_type": "markdown",
   "metadata": {
    "id": "OSkxafurD24j"
   },
   "source": [
    "hyper parameter tuning using GridSerachCv"
   ]
  },
  {
   "cell_type": "code",
   "execution_count": null,
   "metadata": {
    "id": "fhIjiYJeFMP_"
   },
   "outputs": [],
   "source": [
    "from sklearn.model_selection import GridSearchCV, RandomizedSearchCV"
   ]
  },
  {
   "cell_type": "code",
   "execution_count": null,
   "metadata": {
    "colab": {
     "base_uri": "https://localhost:8080/"
    },
    "id": "S3wgUWolENGx",
    "outputId": "d154f529-1a9c-40b8-ac71-aa70d7da394b"
   },
   "outputs": [
    {
     "name": "stdout",
     "output_type": "stream",
     "text": [
      "Fitting 5 folds for each of 288 candidates, totalling 1440 fits\n",
      "Accuracy:  0.824468085106383\n",
      "{'bootstrap': False, 'max_depth': 5, 'max_features': 5, 'min_samples_split': 10, 'n_estimators': 100}\n",
      "RandomForestClassifier(bootstrap=False, max_depth=5, max_features=5,\n",
      "                       min_samples_split=10)\n"
     ]
    }
   ],
   "source": [
    "param_grid = {\n",
    "    'bootstrap': [False,True],\n",
    "    'max_depth': [5,8,10, 20],\n",
    "    'max_features': [3, 4, 5, None],\n",
    "    'min_samples_split': [2, 10, 12],\n",
    "\n",
    "    'n_estimators': [100, 200, 300]\n",
    "}\n",
    "\n",
    "rfc = RandomForestClassifier()\n",
    "\n",
    "clf = GridSearchCV(estimator = rfc, param_grid = param_grid, cv = 5, n_jobs = -1, verbose = 1)\n",
    "\n",
    "clf.fit(X_train,y_train)\n",
    "y_pred = clf.predict(X_test)\n",
    "print(\"Accuracy: \",accuracy_score(y_test,y_pred))\n",
    "print(clf.best_params_)\n",
    "print(clf.best_estimator_)"
   ]
  },
  {
   "cell_type": "markdown",
   "metadata": {
    "id": "EbDWgLtDJXV9"
   },
   "source": [
    "Training the final model with best parameters"
   ]
  },
  {
   "cell_type": "code",
   "execution_count": null,
   "metadata": {
    "colab": {
     "base_uri": "https://localhost:8080/"
    },
    "id": "xAZM2dURJMG0",
    "outputId": "930886a6-9ab7-4358-bf0f-b1bb7ac82a62"
   },
   "outputs": [
    {
     "name": "stdout",
     "output_type": "stream",
     "text": [
      "Without CV:  0.8218085106382979\n",
      "With CV:  0.8028879015721122\n",
      "Precision Score:  0.96875\n",
      "Recall Score:  0.7142857142857143\n",
      "F1 Score:  0.8222811671087532\n"
     ]
    }
   ],
   "source": [
    "clf = RandomForestClassifier(bootstrap=False, max_depth=5,max_features=None,\n",
    "                             min_samples_split=2,\n",
    "                             n_estimators=100, random_state=0)\n",
    "clf.fit(X_train,y_train)\n",
    "y_pred = clf.predict(X_test)\n",
    "print(\"Without CV: \",accuracy_score(y_test,y_pred))\n",
    "scores = cross_val_score(clf, X_train, y_train, cv=10)\n",
    "print(\"With CV: \",scores.mean())\n",
    "print(\"Precision Score: \", precision_score(y_test, y_pred))\n",
    "print(\"Recall Score: \", recall_score(y_test, y_pred))\n",
    "print(\"F1 Score: \", f1_score(y_test, y_pred))"
   ]
  },
  {
   "cell_type": "markdown",
   "metadata": {
    "id": "ZTEOyOnXMIzf"
   },
   "source": [
    "#Deploy the model"
   ]
  },
  {
   "cell_type": "code",
   "execution_count": null,
   "metadata": {
    "id": "5EMBR6WiMVV3"
   },
   "outputs": [],
   "source": [
    "import pickle"
   ]
  },
  {
   "cell_type": "code",
   "execution_count": null,
   "metadata": {
    "id": "Z2mumLcvJfRb"
   },
   "outputs": [],
   "source": [
    "pickle.dump(clf,open('model.pkl','wb'))"
   ]
  },
  {
   "cell_type": "code",
   "execution_count": null,
   "metadata": {
    "id": "RsrZb7jHMTYo"
   },
   "outputs": [],
   "source": [
    "model = pickle.load(open('model.pkl','rb'))"
   ]
  },
  {
   "cell_type": "code",
   "execution_count": null,
   "metadata": {
    "colab": {
     "base_uri": "https://localhost:8080/"
    },
    "id": "BfSwggOmMkm7",
    "outputId": "fea0826d-cf84-431e-ea39-56d7fa589cd5"
   },
   "outputs": [
    {
     "name": "stderr",
     "output_type": "stream",
     "text": [
      "/usr/local/lib/python3.10/dist-packages/sklearn/base.py:439: UserWarning:\n",
      "\n",
      "X does not have valid feature names, but RandomForestClassifier was fitted with feature names\n",
      "\n"
     ]
    },
    {
     "data": {
      "text/plain": [
       "array([1])"
      ]
     },
     "execution_count": 165,
     "metadata": {},
     "output_type": "execute_result"
    }
   ],
   "source": [
    "age = 22\n",
    "gender = 1 # 1=Male, 0=Female\n",
    "stream = 3  # Electronics And Communication': 1,\n",
    "#              'Computer Science': 2,\n",
    "#              'Information Technology': 3,\n",
    "#              'Mechanical':4,\n",
    "#              'Electrical':5,\n",
    "#              'Civil':6\n",
    "Internships = 2\n",
    "CGPA = 6\n",
    "Hostel = 1 # 1= stay in hostel, 0=not staying in hostel\n",
    "HistoryOfBacklogs = 0 # 1 = had backlogs, 0=no backlogs\n",
    "\n",
    "prediction = clf.predict([[age,gender,stream,Internships,CGPA,Hostel,HistoryOfBacklogs]])\n",
    "prediction"
   ]
  },
  {
   "cell_type": "code",
   "execution_count": null,
   "metadata": {
    "id": "8ov3Wew_MupC"
   },
   "outputs": [],
   "source": []
  }
 ],
 "metadata": {
  "colab": {
   "provenance": []
  },
  "kernelspec": {
   "display_name": "Python 3",
   "name": "python3"
  },
  "language_info": {
   "name": "python"
  }
 },
 "nbformat": 4,
 "nbformat_minor": 0
}
